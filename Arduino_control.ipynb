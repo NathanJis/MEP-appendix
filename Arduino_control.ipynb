{
 "cells": [
  {
   "cell_type": "code",
   "execution_count": 1,
   "id": "equipped-hospital",
   "metadata": {},
   "outputs": [],
   "source": [
    "#needed imports\n",
    "import serial\n",
    "import time"
   ]
  },
  {
   "cell_type": "code",
   "execution_count": 7,
   "id": "split-skirt",
   "metadata": {},
   "outputs": [],
   "source": [
    "#class for sending serial commands\n",
    "class SerialComm():\n",
    "    '''Class to facilitate serial communication with valves'''\n",
    "    \n",
    "    def __init__(self):\n",
    "        '''Initialises serial communications and opens port'''    \n",
    "        self.ser = serial.Serial()\n",
    "\n",
    "    def open_serial(self, port):\n",
    "        '''Opens serial port communication'''\n",
    "        self.ser.port = port # \"COM#\" on Windows, \"/dev/ttySC#\" for Linux\n",
    "        self.ser.baudrate = 9600\n",
    "        self.ser.bytesize = 8\n",
    "        self.ser.parity = 'N'\n",
    "        self.ser.timeout = 1\n",
    "        self.ser.stopbits = 1\n",
    "\n",
    "        try:\n",
    "            self.ser.open()\n",
    "            # print('Serial port is open') # For troubleshooting purposes\n",
    "        except:\n",
    "            print('Unable to open serial port. Is specified port available?')\n",
    "           \n",
    "    def write(self, command):\n",
    "        '''Write data to device'''\n",
    "        return self.ser.write(bytearray(command.encode('UTF-8')))\n",
    "      \n",
    "    def read(self):\n",
    "        '''Read data on serial port of max 8 bytes and return decoded bytestring'''\n",
    "        msg = self.ser.read(8)\n",
    "        return msg.decode('UTF-8')\n",
    "    \n",
    "    def close_serial(self):\n",
    "        '''Closes serial port communication'''\n",
    "        self.ser.close()\n"
   ]
  },
  {
   "cell_type": "code",
   "execution_count": 8,
   "id": "serial-mauritius",
   "metadata": {},
   "outputs": [],
   "source": [
    "#class that translates serial commands to orientations and actions on the vici valves\n",
    "class VICI_commands(SerialComm):\n",
    "    '''Class for valve commands. See VICI manual for more information'''\n",
    "\n",
    "    def moveto(self, port, targetpos):\n",
    "        '''Move valve to specified target position'''\n",
    "        SerialComm.open_serial(self, port)\n",
    "        command = 'GO'+str(targetpos)+'\\r\\n'\n",
    "        SerialComm.write(self, command)\n",
    "        SerialComm.close_serial(self)\n",
    "        \n",
    "    def moveto_counterclockwise(self, port, targetpos):\n",
    "        '''Move valve counter clockwise to specified target position'''\n",
    "        SerialComm.open_serial(self, port)\n",
    "        command = 'CC'+str(targetpos)+'\\r\\n'\n",
    "        SerialComm.write(self, command)\n",
    "        SerialComm.close_serial(self)        \n",
    "    \n",
    "    def moveto_clockwise(self, port, targetpos):\n",
    "        '''Move valve clockwise to specified target position'''\n",
    "        SerialComm.open_serial(self, port)\n",
    "        command = 'CW'+str(targetpos)+'\\r\\n'\n",
    "        SerialComm.write(self, command)\n",
    "        SerialComm.close_serial(self)  \n",
    "\n",
    "    def currentpos(self, port):\n",
    "        '''Read current valve position'''\n",
    "        SerialComm.open_serial(self, port)\n",
    "        command = 'CP\\r\\n'\n",
    "        SerialComm.write(self, command)\n",
    "        msg = SerialComm.read(self)\n",
    "        SerialComm.close_serial(self)\n",
    "        return msg\n",
    "    \n",
    "    def toggle(self, port):\n",
    "        '''Toggle valve position'''\n",
    "        SerialComm.open_serial(self, port)\n",
    "        command = 'TO\\r\\n'\n",
    "        SerialComm.write(self, command)\n",
    "        SerialComm.close_serial(self)"
   ]
  },
  {
   "cell_type": "code",
   "execution_count": 15,
   "id": "diagnostic-theta",
   "metadata": {},
   "outputs": [],
   "source": [
    "#examples of how to move VICI valve\n",
    "VICI = VICI_commands()\n",
    "VICI.moveto('COM1', 2)"
   ]
  },
  {
   "cell_type": "code",
   "execution_count": 16,
   "id": "religious-adult",
   "metadata": {},
   "outputs": [],
   "source": [
    "VICI = VICI_commands()\n",
    "VICI.moveto('COM1', 5)"
   ]
  },
  {
   "cell_type": "code",
   "execution_count": 3,
   "id": "vanilla-amber",
   "metadata": {},
   "outputs": [],
   "source": [
    "#method of connecting to an arduino via a COM port\n",
    "ard = serial.Serial('COM3',9600)"
   ]
  },
  {
   "cell_type": "code",
   "execution_count": 4,
   "id": "varied-chance",
   "metadata": {},
   "outputs": [
    {
     "data": {
      "text/plain": [
       "1"
      ]
     },
     "execution_count": 4,
     "metadata": {},
     "output_type": "execute_result"
    }
   ],
   "source": [
    "#examples of how to send singals to th arduino board\n",
    "ard.write(b'A')"
   ]
  },
  {
   "cell_type": "code",
   "execution_count": 5,
   "id": "governmental-rough",
   "metadata": {},
   "outputs": [
    {
     "data": {
      "text/plain": [
       "1"
      ]
     },
     "execution_count": 5,
     "metadata": {},
     "output_type": "execute_result"
    }
   ],
   "source": [
    "ard.write(b'B')"
   ]
  },
  {
   "cell_type": "code",
   "execution_count": 6,
   "id": "juvenile-interview",
   "metadata": {},
   "outputs": [
    {
     "data": {
      "text/plain": [
       "1"
      ]
     },
     "execution_count": 6,
     "metadata": {},
     "output_type": "execute_result"
    }
   ],
   "source": [
    "ard.write(b'C')"
   ]
  },
  {
   "cell_type": "code",
   "execution_count": 8,
   "id": "fixed-trance",
   "metadata": {},
   "outputs": [
    {
     "data": {
      "text/plain": [
       "1"
      ]
     },
     "execution_count": 8,
     "metadata": {},
     "output_type": "execute_result"
    }
   ],
   "source": [
    "ard.write(b'E')"
   ]
  },
  {
   "cell_type": "code",
   "execution_count": 2,
   "id": "suitable-flight",
   "metadata": {},
   "outputs": [],
   "source": [
    "#now an example specifically for the stepper motor control\n",
    "CNC = serial.Serial('COM3',9600)"
   ]
  },
  {
   "cell_type": "code",
   "execution_count": 3,
   "id": "complex-vancouver",
   "metadata": {},
   "outputs": [],
   "source": [
    "# function that translates a picked motor and picked direction into the right signal\n",
    "def motor_control(motor,direction):\n",
    "    if motor == 'x':\n",
    "        if direction == 'neutral':\n",
    "            CNC.write(b'A')\n",
    "        elif direction == 'left':\n",
    "            CNC.write(b'B')\n",
    "        elif direction == 'right':\n",
    "            CNC.write(b'C')\n",
    "            \n",
    "    if motor == 'y':\n",
    "        if direction == 'neutral':\n",
    "            CNC.write(b'D')\n",
    "        elif direction == 'left':\n",
    "            CNC.write(b'E')\n",
    "        elif direction == 'right':\n",
    "            CNC.write(b'F')\n",
    "            \n",
    "    if motor == 'z':\n",
    "        if direction == 'neutral':\n",
    "            CNC.write(b'G')\n",
    "        elif direction == 'left':\n",
    "            CNC.write(b'H')\n",
    "        elif direction == 'right':\n",
    "            CNC.write(b'I')"
   ]
  },
  {
   "cell_type": "code",
   "execution_count": 21,
   "id": "foreign-queens",
   "metadata": {},
   "outputs": [],
   "source": [
    "# examples of singals to move the stepper motors\n",
    "motor_control('y', 'left')"
   ]
  },
  {
   "cell_type": "code",
   "execution_count": 22,
   "id": "three-stable",
   "metadata": {},
   "outputs": [],
   "source": [
    "motor_control('y', 'right')"
   ]
  },
  {
   "cell_type": "code",
   "execution_count": 23,
   "id": "representative-mainland",
   "metadata": {},
   "outputs": [],
   "source": [
    "motor_control('y', 'neutral')"
   ]
  }
 ],
 "metadata": {
  "kernelspec": {
   "display_name": "Python 3",
   "language": "python",
   "name": "python3"
  },
  "language_info": {
   "codemirror_mode": {
    "name": "ipython",
    "version": 3
   },
   "file_extension": ".py",
   "mimetype": "text/x-python",
   "name": "python",
   "nbconvert_exporter": "python",
   "pygments_lexer": "ipython3",
   "version": "3.9.10"
  }
 },
 "nbformat": 4,
 "nbformat_minor": 5
}
